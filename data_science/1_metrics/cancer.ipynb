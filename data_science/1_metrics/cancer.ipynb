{
 "cells": [
  {
   "cell_type": "code",
   "execution_count": 77,
   "metadata": {},
   "outputs": [],
   "source": [
    "import pandas as pd\n",
    "from sklearn import metrics\n",
    "from sklearn.metrics import classification_report\n",
    "from sklearn.metrics import precision_score, recall_score, f1_score\n",
    "from matplotlib import pyplot as plt\n",
    "import seaborn as sns\n",
    "import numpy as np\n",
    "\n"
   ]
  },
  {
   "cell_type": "code",
   "execution_count": 12,
   "metadata": {},
   "outputs": [],
   "source": [
    "df_cancer = pd.read_csv(\"CANCER_TABLE.csv\")\n",
    "df_cancer = df_cancer.rename(columns=lambda x: x.strip())"
   ]
  },
  {
   "cell_type": "code",
   "execution_count": 53,
   "metadata": {},
   "outputs": [],
   "source": [
    "df_cancer[\"prediction_cancer\"] = df_cancer[\"diameter (cm)\"].apply(lambda x: x>7)"
   ]
  },
  {
   "cell_type": "code",
   "execution_count": 54,
   "metadata": {},
   "outputs": [
    {
     "name": "stdout",
     "output_type": "stream",
     "text": [
      "              precision    recall  f1-score   support\n",
      "\n",
      "       False       1.00      0.85      0.92       807\n",
      "        True       0.62      1.00      0.77       193\n",
      "\n",
      "    accuracy                           0.88      1000\n",
      "   macro avg       0.81      0.93      0.84      1000\n",
      "weighted avg       0.93      0.88      0.89      1000\n",
      "\n"
     ]
    }
   ],
   "source": [
    "true_labels = df_cancer[\"cancer\"]\n",
    "predicted_labels = df_cancer[\"prediction_cancer\"]\n",
    "report = classification_report(true_labels, predicted_labels)\n",
    "print(report)"
   ]
  },
  {
   "cell_type": "code",
   "execution_count": 55,
   "metadata": {},
   "outputs": [
    {
     "name": "stdout",
     "output_type": "stream",
     "text": [
      "True Positives (TP): 193\n",
      "False Positives (FP): 118\n",
      "False Negatives (FN): 0\n",
      "True Negatives (TN): 689\n"
     ]
    }
   ],
   "source": [
    "TP = ((true_labels==True) & (predicted_labels==True)).sum()\n",
    "FP = ((true_labels==False) & (predicted_labels==True)).sum()\n",
    "FN = ((true_labels == True) & (predicted_labels == False)).sum()\n",
    "TN = ((true_labels == False) & (predicted_labels == False)).sum()\n",
    "\n",
    "print(\"True Positives (TP):\", TP)\n",
    "print(\"False Positives (FP):\", FP)\n",
    "print(\"False Negatives (FN):\", FN)\n",
    "print(\"True Negatives (TN):\", TN)"
   ]
  },
  {
   "cell_type": "markdown",
   "metadata": {},
   "source": [
    "The business meaning is not so hard to understand....."
   ]
  },
  {
   "cell_type": "code",
   "execution_count": 56,
   "metadata": {},
   "outputs": [
    {
     "name": "stdout",
     "output_type": "stream",
     "text": [
      "True Positive Rate (TPR): 1.0\n",
      "False Positive Rate (FPR): 0.14622057001239158\n"
     ]
    }
   ],
   "source": [
    "TPR = TP / (TP + FN)\n",
    "FPR = FP / (FP + TN)\n",
    "\n",
    "print(\"True Positive Rate (TPR):\", TPR)\n",
    "print(\"False Positive Rate (FPR):\", FPR)"
   ]
  },
  {
   "cell_type": "markdown",
   "metadata": {},
   "source": [
    "TPR is how many of the positive will I recognize.\n",
    "FPR is how many of the negatives do I get wrong."
   ]
  },
  {
   "cell_type": "code",
   "execution_count": 17,
   "metadata": {},
   "outputs": [
    {
     "name": "stdout",
     "output_type": "stream",
     "text": [
      "Accuracy: 0.882\n"
     ]
    }
   ],
   "source": [
    "accuracy = np.mean(true_labels == predicted_labels)\n",
    "\n",
    "print(\"Accuracy:\", accuracy)"
   ]
  },
  {
   "cell_type": "markdown",
   "metadata": {},
   "source": [
    "Acc is what is the probability that my prediction is right."
   ]
  },
  {
   "cell_type": "code",
   "execution_count": 18,
   "metadata": {},
   "outputs": [
    {
     "name": "stdout",
     "output_type": "stream",
     "text": [
      "Precision: 0.6205787781350482\n",
      "Recall: 1.0\n",
      "F1 Score: 0.7658730158730159\n"
     ]
    }
   ],
   "source": [
    "precision = precision_score(true_labels, predicted_labels)\n",
    "recall = recall_score(true_labels, predicted_labels)\n",
    "f1 = f1_score(true_labels, predicted_labels)\n",
    "\n",
    "print(\"Precision:\", precision)\n",
    "print(\"Recall:\", recall)\n",
    "print(\"F1 Score:\", f1)"
   ]
  },
  {
   "cell_type": "markdown",
   "metadata": {},
   "source": [
    "After analyzing your model, \"Marvel-Sabres\" offered an upgrade to the model: instead of a classified model, the company will provide a model that ranks the biopsies by their chances to represent a cancer patient (in the coming year). A higher ranking biopsy represents a higher likelihood that it is taken from a person who gets cancer in the coming year."
   ]
  },
  {
   "cell_type": "markdown",
   "metadata": {},
   "source": [
    "#### Why would such a model be good? Market it to a customer\n",
    "Well instead of just knowing what we think, you can also get a more accurate representation of what is the probability of a patient to have cancer, and not just get an answer based on a given threshold. If you need we can give you a reasonable threshold as well, spereately."
   ]
  },
  {
   "cell_type": "markdown",
   "metadata": {},
   "source": [
    "#### Draw a ROC curve without using scikit-Learn or any other structured function of python that does so"
   ]
  },
  {
   "cell_type": "code",
   "execution_count": 70,
   "metadata": {},
   "outputs": [],
   "source": [
    "def calculate_TPR(true_labels, predicted_labels):\n",
    "    TP = ((true_labels==True) & (predicted_labels==True)).sum()\n",
    "    FN = ((true_labels == True) & (predicted_labels == False)).sum()\n",
    "    TPR = TP / (TP + FN)\n",
    "    return TPR\n",
    "\n",
    "\n",
    "def calculate_FPR(true_labels, predicted_labels):\n",
    "    FP = ((true_labels == False) & (predicted_labels == True)).sum()\n",
    "    TN = ((true_labels == False) & (predicted_labels == False)).sum()\n",
    "    FPR = FP / (FP + TN)\n",
    "    return FPR\n",
    "\n",
    "thresholds = np.arange(5,12,0.01)\n",
    "\n",
    "def get_threshold_TPR_FPR(threshold, values, true_labels):\n",
    "    predicted_labels = np.array([val > threshold for val in values])\n",
    "    rates = (calculate_TPR(true_labels, predicted_labels), calculate_FPR(true_labels, predicted_labels))\n",
    "    return rates\n"
   ]
  },
  {
   "cell_type": "code",
   "execution_count": 71,
   "metadata": {},
   "outputs": [],
   "source": [
    "threshold_TPR_FPR = np.array(list(map(lambda thresh: get_threshold_TPR_FPR(thresh, df_cancer[\"diameter (cm)\"], true_labels), thresholds)))\n",
    "TPR = threshold_TPR_FPR[:,0]\n",
    "FPR = threshold_TPR_FPR[:,1]"
   ]
  },
  {
   "cell_type": "code",
   "execution_count": 75,
   "metadata": {},
   "outputs": [
    {
     "data": {
      "image/png": "[encoded data removed]",
      "text/plain": [
       "<Figure size 640x480 with 1 Axes>"
      ]
     },
     "metadata": {},
     "output_type": "display_data"
    }
   ],
   "source": [
    "ax = sns.scatterplot(x=FPR, y=TPR)\n",
    "sns.lineplot(x=FPR, y=TPR)\n",
    "\n",
    "ax.set_title(\"ROC\")\n",
    "ax.set_ylabel(\"True Positive Rate (TPR)\")\n",
    "ax.set_xlabel(\"False Positive Rate (FPR)\")\n",
    "\n",
    "plt.show()"
   ]
  },
  {
   "cell_type": "markdown",
   "metadata": {},
   "source": [
    "### Calculate AUC"
   ]
  },
  {
   "cell_type": "code",
   "execution_count": 78,
   "metadata": {},
   "outputs": [
    {
     "data": {
      "text/plain": [
       "0.3630731102850062"
      ]
     },
     "execution_count": 78,
     "metadata": {},
     "output_type": "execute_result"
    }
   ],
   "source": [
    "metrics.auc(FPR,TPR)"
   ]
  },
  {
   "cell_type": "code",
   "execution_count": 80,
   "metadata": {},
   "outputs": [
    {
     "data": {
      "text/plain": [
       "0.75"
      ]
     },
     "execution_count": 80,
     "metadata": {},
     "output_type": "execute_result"
    }
   ],
   "source": [
    "import numpy as np\n",
    "from sklearn import metrics\n",
    "y = np.array([1, 1, 2, 2])\n",
    "pred = np.array([0.1, 0.4, 0.35, 0.8])\n",
    "fpr, tpr, thresholds = metrics.roc_curve(y, pred, pos_label=2)\n",
    "metrics.auc(fpr, tpr)"
   ]
  },
  {
   "cell_type": "code",
   "execution_count": 82,
   "metadata": {},
   "outputs": [
    {
     "data": {
      "text/plain": [
       "(array([0. , 0. , 0.5, 0.5, 1. ]),\n",
       " array([0. , 0.5, 0.5, 1. , 1. ]),\n",
       " array([ inf, 0.8 , 0.4 , 0.35, 0.1 ]))"
      ]
     },
     "execution_count": 82,
     "metadata": {},
     "output_type": "execute_result"
    }
   ],
   "source": []
  }
 ],
 "metadata": {
  "kernelspec": {
   "display_name": "Python 3",
   "language": "python",
   "name": "python3"
  },
  "language_info": {
   "codemirror_mode": {
    "name": "ipython",
    "version": 3
   },
   "file_extension": ".py",
   "mimetype": "text/x-python",
   "name": "python",
   "nbconvert_exporter": "python",
   "pygments_lexer": "ipython3",
   "version": "3.11.9"
  }
 },
 "nbformat": 4,
 "nbformat_minor": 2
}
