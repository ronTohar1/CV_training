{
 "cells": [
  {
   "cell_type": "code",
   "execution_count": 32,
   "metadata": {},
   "outputs": [
    {
     "name": "stdout",
     "output_type": "stream",
     "text": [
      "The autoreload extension is already loaded. To reload it, use:\n",
      "  %reload_ext autoreload\n"
     ]
    }
   ],
   "source": [
    "from sklearn import metrics\n",
    "from sklearn.metrics import classification_report\n",
    "from sklearn.metrics import precision_score, recall_score, f1_score\n",
    "from sklearn.metrics import confusion_matrix\n",
    "from sklearn.preprocessing import PolynomialFeatures\n",
    "from sklearn.linear_model import LinearRegression\n",
    "from sklearn.neighbors import KNeighborsClassifier\n",
    "from sklearn.model_selection import train_test_split\n",
    "from sklearn import datasets\n",
    "from knn_imp import KNNTO\n",
    "\n",
    "import pandas as pd\n",
    "from matplotlib import pyplot as plt\n",
    "import seaborn as sns\n",
    "import numpy as np\n",
    "\n",
    "%load_ext autoreload\n",
    "%autoreload 2"
   ]
  },
  {
   "cell_type": "code",
   "execution_count": 67,
   "metadata": {},
   "outputs": [],
   "source": [
    "iris = datasets.load_iris()\n",
    "classes_names = iris.target_names\n",
    "X = pd.DataFrame(iris.data, columns=iris[\"feature_names\"])\n",
    "y = pd.DataFrame(iris.target, columns=[\"class\"])\n",
    "# y = pd.Series(iris.target)\n",
    "df = pd.concat([X,y], axis=1)"
   ]
  },
  {
   "cell_type": "code",
   "execution_count": 1,
   "metadata": {},
   "outputs": [
    {
     "ename": "NameError",
     "evalue": "name 'train_test_split' is not defined",
     "output_type": "error",
     "traceback": [
      "\u001b[1;31m---------------------------------------------------------------------------\u001b[0m",
      "\u001b[1;31mNameError\u001b[0m                                 Traceback (most recent call last)",
      "Cell \u001b[1;32mIn[1], line 1\u001b[0m\n\u001b[1;32m----> 1\u001b[0m X_train, X_test, y_train, y_test \u001b[38;5;241m=\u001b[39m \u001b[43mtrain_test_split\u001b[49m(X,y, test_size\u001b[38;5;241m=\u001b[39m\u001b[38;5;241m0.3\u001b[39m, random_state\u001b[38;5;241m=\u001b[39m\u001b[38;5;241m42\u001b[39m)\n\u001b[0;32m      2\u001b[0m \u001b[38;5;66;03m# for x in X_train.iterrows():\u001b[39;00m\n\u001b[0;32m      3\u001b[0m     \u001b[38;5;66;03m# print(x)\u001b[39;00m\n",
      "\u001b[1;31mNameError\u001b[0m: name 'train_test_split' is not defined"
     ]
    }
   ],
   "source": [
    "X_train, X_test, y_train, y_test = train_test_split(X,y, test_size=0.3, random_state=42)\n",
    "# for x in X_train.iterrows():\n",
    "    # print(x)"
   ]
  },
  {
   "cell_type": "code",
   "execution_count": null,
   "metadata": {},
   "outputs": [
    {
     "name": "stdout",
     "output_type": "stream",
     "text": [
      "[1 0 2 1 1 0 1 2 1 1 2 0 0 0 0 1 2 1 1 2 0 2 0 2 2 2 2 2 0 0] [1 0 2 1 1 0 1 2 1 1 2 0 0 0 0 1 2 1 1 2 0 2 0 2 2 2 2 2 0 0] [ True  True  True  True  True  True  True  True  True  True  True  True\n",
      "  True  True  True  True  True  True  True  True  True  True  True  True\n",
      "  True  True  True  True  True  True]\n"
     ]
    },
    {
     "name": "stderr",
     "output_type": "stream",
     "text": [
      "C:\\Users\\Ron Tohar\\AppData\\Local\\Packages\\PythonSoftwareFoundation.Python.3.11_qbz5n2kfra8p0\\LocalCache\\local-packages\\Python311\\site-packages\\sklearn\\neighbors\\_classification.py:238: DataConversionWarning: A column-vector y was passed when a 1d array was expected. Please change the shape of y to (n_samples,), for example using ravel().\n",
      "  return self._fit(X, y)\n"
     ]
    }
   ],
   "source": [
    "knn1 = KNNTO(k=5)\n",
    "knn1.fit(X_train, y_train)\n",
    "\n",
    "knn2 = KNeighborsClassifier(5)\n",
    "knn2.fit(X_train, y_train)\n",
    "\n",
    "y_pred1 = knn1.predict(X_test)\n",
    "y_pred2 = knn2.predict(X_test)"
   ]
  },
  {
   "cell_type": "code",
   "execution_count": 2,
   "metadata": {},
   "outputs": [
    {
     "ename": "NameError",
     "evalue": "name 'KNNTO' is not defined",
     "output_type": "error",
     "traceback": [
      "\u001b[1;31m---------------------------------------------------------------------------\u001b[0m",
      "\u001b[1;31mNameError\u001b[0m                                 Traceback (most recent call last)",
      "Cell \u001b[1;32mIn[2], line 18\u001b[0m\n\u001b[0;32m     16\u001b[0m avg_model2_score_total \u001b[38;5;241m=\u001b[39m \u001b[38;5;241m0\u001b[39m\n\u001b[0;32m     17\u001b[0m \u001b[38;5;28;01mfor\u001b[39;00m k \u001b[38;5;129;01min\u001b[39;00m \u001b[38;5;28mrange\u001b[39m(\u001b[38;5;241m1\u001b[39m,num_k \u001b[38;5;241m+\u001b[39m \u001b[38;5;241m1\u001b[39m):\n\u001b[1;32m---> 18\u001b[0m     model1 \u001b[38;5;241m=\u001b[39m \u001b[43mKNNTO\u001b[49m(k\u001b[38;5;241m=\u001b[39mk)\n\u001b[0;32m     19\u001b[0m     model2 \u001b[38;5;241m=\u001b[39m KNeighborsClassifier(k)\n\u001b[0;32m     21\u001b[0m     \u001b[38;5;66;03m# Iterate over the folds\u001b[39;00m\n",
      "\u001b[1;31mNameError\u001b[0m: name 'KNNTO' is not defined"
     ]
    }
   ],
   "source": [
    "from sklearn.model_selection import KFold\n",
    "from sklearn.metrics import accuracy_score\n",
    "from sklearn.model_selection import cross_val_score\n",
    "\n",
    "def evaluate_model(model, X, y, cv=10):\n",
    "    # Perform cross-validation\n",
    "    scores = cross_val_score(model, X, y, cv=cv, scoring='accuracy')\n",
    "    return scores.mean()\n",
    "\n",
    "# Assuming model1 and model2 are your two models\n",
    "model1_scores = []\n",
    "model2_scores = []\n",
    "\n",
    "num_k = 9\n",
    "avg_model1_score_total = 0\n",
    "avg_model2_score_total = 0\n",
    "for k in range(1,num_k + 1):\n",
    "    model1 = KNNTO(k=k)\n",
    "    model2 = KNeighborsClassifier(k)\n",
    "\n",
    "    # Iterate over the folds\n",
    "    kf = KFold(n_splits=10, shuffle=True, random_state=42)\n",
    "    for train_index, test_index in kf.split(X):\n",
    "        X_train, X_test = X.iloc[train_index], X.iloc[test_index]\n",
    "        y_train, y_test = y.iloc[train_index], y.iloc[test_index]\n",
    "        \n",
    "        # Train and evaluate model 1\n",
    "        model1.fit(X_train, y_train)\n",
    "        model1_score = accuracy_score(y_test, model1.predict(X_test))\n",
    "        model1_scores.append(model1_score)\n",
    "        \n",
    "        # Train and evaluate model 2\n",
    "        model2.fit(X_train, y_train)\n",
    "        model2_score = accuracy_score(y_test, model2.predict(X_test))\n",
    "        model2_scores.append(model2_score)\n",
    "\n",
    "    # Calculate average scores\n",
    "    avg_model1_score = sum(model1_scores) / len(model1_scores)\n",
    "    avg_model2_score = sum(model2_scores) / len(model2_scores)\n",
    "\n",
    "    avg_model1_score_total += avg_model1_score \n",
    "    avg_model2_score_total += avg_model2_score \n",
    "\n",
    "avg_model1_score_total = avg_model1_score_total/num_k\n",
    "avg_model2_score_total = avg_model2_score_total/num_k\n",
    "\n",
    "print(\"Average Accuracy for Model 1:\", avg_model1_score_total)\n",
    "print(\"Average Accuracy for Model 2:\", avg_model2_score_total)"
   ]
  }
 ],
 "metadata": {
  "kernelspec": {
   "display_name": "Python 3",
   "language": "python",
   "name": "python3"
  },
  "language_info": {
   "codemirror_mode": {
    "name": "ipython",
    "version": 3
   },
   "file_extension": ".py",
   "mimetype": "text/x-python",
   "name": "python",
   "nbconvert_exporter": "python",
   "pygments_lexer": "ipython3",
   "version": "3.11.9"
  }
 },
 "nbformat": 4,
 "nbformat_minor": 2
}
