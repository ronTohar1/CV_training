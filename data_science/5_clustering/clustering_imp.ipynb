{
 "cells": [
  {
   "cell_type": "code",
   "execution_count": 1,
   "metadata": {},
   "outputs": [],
   "source": [
    "import cv2\n",
    "import numpy as np\n",
    "import pandas as pd\n",
    "import matplotlib.pyplot as plt\n",
    "# import scipy"
   ]
  },
  {
   "cell_type": "code",
   "execution_count": 3,
   "metadata": {},
   "outputs": [
    {
     "name": "stdout",
     "output_type": "stream",
     "text": [
      "Cluster centroids:\n",
      "[[0.8039633  0.57026999]\n",
      " [0.18520943 0.72228065]\n",
      " [0.36376248 0.20008043]]\n"
     ]
    }
   ],
   "source": [
    "class KMeans:\n",
    "    def __init__(self, n_clusters, max_iter=300):\n",
    "        self.n_clusters = n_clusters\n",
    "        self.max_iter = max_iter\n",
    "\n",
    "    def fit(self, X):\n",
    "        # Randomly initialize cluster centroids\n",
    "        self.centroids = X[np.random.choice(X.shape[0], self.n_clusters, replace=False)]\n",
    "\n",
    "        for _ in range(self.max_iter):\n",
    "            # Assign each data point to the nearest centroid\n",
    "            labels = self._assign_labels(X)\n",
    "            \n",
    "            # Update cluster centroids\n",
    "            new_centroids = self._update_centroids(X, labels)\n",
    "            \n",
    "            # Check for convergence\n",
    "            if np.allclose(new_centroids, self.centroids):\n",
    "                break\n",
    "            \n",
    "            self.centroids = new_centroids\n",
    "                \n",
    "    def _assign_labels(self, X):\n",
    "        distances = np.sqrt(((X[:, np.newaxis] - self.centroids) ** 2).sum(axis=2))\n",
    "        return np.argmin(distances, axis=1)\n",
    "    \n",
    "    def _update_centroids(self, X, labels):\n",
    "        new_centroids = np.empty_like(self.centroids)\n",
    "        for i in range(self.n_clusters):\n",
    "            new_centroids[i] = np.mean(X[labels == i], axis=0)\n",
    "        return new_centroids\n",
    "\n",
    "# Example usage\n",
    "if __name__ == \"__main__\":\n",
    "    # Generate some random data\n",
    "    np.random.seed(42)\n",
    "    X = np.random.rand(100, 2)\n",
    "    \n",
    "    # Initialize and fit KMeans\n",
    "    kmeans = KMeans(n_clusters=3)\n",
    "    kmeans.fit(X)\n",
    "    \n",
    "    # Get the cluster centroids\n",
    "    centroids = kmeans.centroids\n",
    "    \n",
    "    print(\"Cluster centroids:\")\n",
    "    print(centroids)"
   ]
  }
 ],
 "metadata": {
  "kernelspec": {
   "display_name": ".venv",
   "language": "python",
   "name": "python3"
  },
  "language_info": {
   "codemirror_mode": {
    "name": "ipython",
    "version": 3
   },
   "file_extension": ".py",
   "mimetype": "text/x-python",
   "name": "python",
   "nbconvert_exporter": "python",
   "pygments_lexer": "ipython3",
   "version": "3.11.9"
  }
 },
 "nbformat": 4,
 "nbformat_minor": 2
}
